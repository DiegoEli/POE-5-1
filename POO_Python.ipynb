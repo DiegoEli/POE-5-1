{
  "nbformat": 4,
  "nbformat_minor": 0,
  "metadata": {
    "colab": {
      "name": "POO Python",
      "provenance": [],
      "collapsed_sections": [],
      "include_colab_link": true
    },
    "kernelspec": {
      "name": "python3",
      "display_name": "Python 3"
    },
    "language_info": {
      "name": "python"
    }
  },
  "cells": [
    {
      "cell_type": "markdown",
      "metadata": {
        "id": "view-in-github",
        "colab_type": "text"
      },
      "source": [
        "<a href=\"https://colab.research.google.com/github/DiegoEli/POE-5-1/blob/main/POO_Python.ipynb\" target=\"_parent\"><img src=\"https://colab.research.google.com/assets/colab-badge.svg\" alt=\"Open In Colab\"/></a>"
      ]
    },
    {
      "cell_type": "code",
      "execution_count": 14,
      "metadata": {
        "id": "runHhFolwnqG"
      },
      "outputs": [],
      "source": [
        "class persona(): # clase persona\n",
        "    def __init__(self,nombre,edad): # se inicializa con nombre y edad\n",
        "        self.nombre=nombre\n",
        "        self.edad=edad\n",
        "\n",
        "    "
      ]
    },
    {
      "cell_type": "code",
      "source": [
        "\n",
        "diego=persona(\"Diego Mendoza\", 22)\n"
      ],
      "metadata": {
        "id": "NnRKdq2pwsr2"
      },
      "execution_count": 15,
      "outputs": []
    },
    {
      "cell_type": "code",
      "source": [
        "#Ejercicio 1. Imprimir Edad.\n",
        "diego.edad"
      ],
      "metadata": {
        "colab": {
          "base_uri": "https://localhost:8080/"
        },
        "id": "eI1hhmDa5Zyp",
        "outputId": "874fc020-ffe7-442f-8aa0-5469676cbef2"
      },
      "execution_count": 16,
      "outputs": [
        {
          "output_type": "execute_result",
          "data": {
            "text/plain": [
              "22"
            ]
          },
          "metadata": {},
          "execution_count": 16
        }
      ]
    }
  ]
}