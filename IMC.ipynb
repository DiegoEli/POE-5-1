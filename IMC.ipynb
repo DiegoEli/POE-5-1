{
  "nbformat": 4,
  "nbformat_minor": 0,
  "metadata": {
    "colab": {
      "name": "IMC",
      "provenance": [],
      "authorship_tag": "ABX9TyOD2Ak1CZtps9P7idAIE4sw",
      "include_colab_link": true
    },
    "kernelspec": {
      "name": "python3",
      "display_name": "Python 3"
    },
    "language_info": {
      "name": "python"
    }
  },
  "cells": [
    {
      "cell_type": "markdown",
      "metadata": {
        "id": "view-in-github",
        "colab_type": "text"
      },
      "source": [
        "<a href=\"https://colab.research.google.com/github/DiegoEli/POE-5-1/blob/main/IMC.ipynb\" target=\"_parent\"><img src=\"https://colab.research.google.com/assets/colab-badge.svg\" alt=\"Open In Colab\"/></a>"
      ]
    },
    {
      "cell_type": "code",
      "execution_count": 24,
      "metadata": {
        "colab": {
          "base_uri": "https://localhost:8080/"
        },
        "id": "HMhw2Uytgx5j",
        "outputId": "1f1b40a5-cd64-4d8b-ec59-3f82749a7a98"
      },
      "outputs": [
        {
          "output_type": "stream",
          "name": "stdout",
          "text": [
            "24.221453287197235\n"
          ]
        }
      ],
      "source": [
        "#@title Calculo del Indice de Masa Corporal { run: \"auto\", vertical-output: true }\n",
        "Estatura =  1.70#@param {type:\"number\"}\n",
        "Peso =  70#@param {type:\"number\"}\n",
        "print((Peso)/(Estatura*Estatura))\n"
      ]
    }
  ]
}